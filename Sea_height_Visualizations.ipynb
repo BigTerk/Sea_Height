{
 "cells": [
  {
   "cell_type": "markdown",
   "metadata": {},
   "source": [
    "# Cleaning Done! \n",
    "\n",
    "# Get Means, 2 STD and Visualize "
   ]
  },
  {
   "cell_type": "code",
   "execution_count": 2,
   "metadata": {
    "collapsed": true
   },
   "outputs": [],
   "source": [
    "import pandas as pd\n",
    "import matplotlib.pyplot as plt\n",
    "import seaborn as sns\n",
    "import numpy as np"
   ]
  },
  {
   "cell_type": "code",
   "execution_count": 3,
   "metadata": {},
   "outputs": [
    {
     "data": {
      "text/html": [
       "<div>\n",
       "<style>\n",
       "    .dataframe thead tr:only-child th {\n",
       "        text-align: right;\n",
       "    }\n",
       "\n",
       "    .dataframe thead th {\n",
       "        text-align: left;\n",
       "    }\n",
       "\n",
       "    .dataframe tbody tr th {\n",
       "        vertical-align: top;\n",
       "    }\n",
       "</style>\n",
       "<table border=\"1\" class=\"dataframe\">\n",
       "  <thead>\n",
       "    <tr style=\"text-align: right;\">\n",
       "      <th></th>\n",
       "      <th>WaterLevel</th>\n",
       "      <th>Type</th>\n",
       "      <th>City</th>\n",
       "      <th>State</th>\n",
       "      <th>Station</th>\n",
       "      <th>Date</th>\n",
       "    </tr>\n",
       "  </thead>\n",
       "  <tbody>\n",
       "    <tr>\n",
       "      <th>0</th>\n",
       "      <td>0.442</td>\n",
       "      <td>L</td>\n",
       "      <td>Cape May</td>\n",
       "      <td>NJ</td>\n",
       "      <td>8536110</td>\n",
       "      <td>1979-01-01 08:42:00.000004</td>\n",
       "    </tr>\n",
       "    <tr>\n",
       "      <th>1</th>\n",
       "      <td>2.509</td>\n",
       "      <td>HH</td>\n",
       "      <td>Cape May</td>\n",
       "      <td>NJ</td>\n",
       "      <td>8536110</td>\n",
       "      <td>1979-01-01 15:17:59.999996</td>\n",
       "    </tr>\n",
       "    <tr>\n",
       "      <th>2</th>\n",
       "      <td>0.378</td>\n",
       "      <td>LL</td>\n",
       "      <td>Cape May</td>\n",
       "      <td>NJ</td>\n",
       "      <td>8536110</td>\n",
       "      <td>1979-01-01 21:11:59.999997</td>\n",
       "    </tr>\n",
       "    <tr>\n",
       "      <th>3</th>\n",
       "      <td>2.158</td>\n",
       "      <td>H</td>\n",
       "      <td>Cape May</td>\n",
       "      <td>NJ</td>\n",
       "      <td>8536110</td>\n",
       "      <td>1979-01-02 03:47:59.999999</td>\n",
       "    </tr>\n",
       "    <tr>\n",
       "      <th>4</th>\n",
       "      <td>0.405</td>\n",
       "      <td>LL</td>\n",
       "      <td>Cape May</td>\n",
       "      <td>NJ</td>\n",
       "      <td>8536110</td>\n",
       "      <td>1979-01-02 09:47:59.999999</td>\n",
       "    </tr>\n",
       "  </tbody>\n",
       "</table>\n",
       "</div>"
      ],
      "text/plain": [
       "   WaterLevel Type      City State  Station                        Date\n",
       "0       0.442   L   Cape May    NJ  8536110  1979-01-01 08:42:00.000004\n",
       "1       2.509   HH  Cape May    NJ  8536110  1979-01-01 15:17:59.999996\n",
       "2       0.378   LL  Cape May    NJ  8536110  1979-01-01 21:11:59.999997\n",
       "3       2.158   H   Cape May    NJ  8536110  1979-01-02 03:47:59.999999\n",
       "4       0.405   LL  Cape May    NJ  8536110  1979-01-02 09:47:59.999999"
      ]
     },
     "execution_count": 3,
     "metadata": {},
     "output_type": "execute_result"
    }
   ],
   "source": [
    "Water = pd.read_csv(\"C:\\\\Users\\\\gst8882\\\\Desktop\\\\Sea_Height.csv\")\n",
    "Water.head()"
   ]
  },
  {
   "cell_type": "code",
   "execution_count": 4,
   "metadata": {},
   "outputs": [
    {
     "data": {
      "text/html": [
       "<div>\n",
       "<style>\n",
       "    .dataframe thead tr:only-child th {\n",
       "        text-align: right;\n",
       "    }\n",
       "\n",
       "    .dataframe thead th {\n",
       "        text-align: left;\n",
       "    }\n",
       "\n",
       "    .dataframe tbody tr th {\n",
       "        vertical-align: top;\n",
       "    }\n",
       "</style>\n",
       "<table border=\"1\" class=\"dataframe\">\n",
       "  <thead>\n",
       "    <tr style=\"text-align: right;\">\n",
       "      <th></th>\n",
       "      <th>WaterLevel</th>\n",
       "      <th>Type</th>\n",
       "      <th>City</th>\n",
       "      <th>State</th>\n",
       "      <th>Station</th>\n",
       "      <th>Date</th>\n",
       "      <th>mean</th>\n",
       "    </tr>\n",
       "  </thead>\n",
       "  <tbody>\n",
       "    <tr>\n",
       "      <th>0</th>\n",
       "      <td>0.442</td>\n",
       "      <td>L</td>\n",
       "      <td>Cape May</td>\n",
       "      <td>NJ</td>\n",
       "      <td>8536110</td>\n",
       "      <td>1979-01-01 08:42:00.000004</td>\n",
       "      <td>0.442</td>\n",
       "    </tr>\n",
       "    <tr>\n",
       "      <th>1</th>\n",
       "      <td>2.509</td>\n",
       "      <td>HH</td>\n",
       "      <td>Cape May</td>\n",
       "      <td>NJ</td>\n",
       "      <td>8536110</td>\n",
       "      <td>1979-01-01 15:17:59.999996</td>\n",
       "      <td>2.509</td>\n",
       "    </tr>\n",
       "    <tr>\n",
       "      <th>2</th>\n",
       "      <td>0.378</td>\n",
       "      <td>LL</td>\n",
       "      <td>Cape May</td>\n",
       "      <td>NJ</td>\n",
       "      <td>8536110</td>\n",
       "      <td>1979-01-01 21:11:59.999997</td>\n",
       "      <td>0.378</td>\n",
       "    </tr>\n",
       "    <tr>\n",
       "      <th>3</th>\n",
       "      <td>2.158</td>\n",
       "      <td>H</td>\n",
       "      <td>Cape May</td>\n",
       "      <td>NJ</td>\n",
       "      <td>8536110</td>\n",
       "      <td>1979-01-02 03:47:59.999999</td>\n",
       "      <td>2.158</td>\n",
       "    </tr>\n",
       "    <tr>\n",
       "      <th>4</th>\n",
       "      <td>0.405</td>\n",
       "      <td>LL</td>\n",
       "      <td>Cape May</td>\n",
       "      <td>NJ</td>\n",
       "      <td>8536110</td>\n",
       "      <td>1979-01-02 09:47:59.999999</td>\n",
       "      <td>0.405</td>\n",
       "    </tr>\n",
       "  </tbody>\n",
       "</table>\n",
       "</div>"
      ],
      "text/plain": [
       "   WaterLevel Type      City State  Station                        Date   mean\n",
       "0       0.442   L   Cape May    NJ  8536110  1979-01-01 08:42:00.000004  0.442\n",
       "1       2.509   HH  Cape May    NJ  8536110  1979-01-01 15:17:59.999996  2.509\n",
       "2       0.378   LL  Cape May    NJ  8536110  1979-01-01 21:11:59.999997  0.378\n",
       "3       2.158   H   Cape May    NJ  8536110  1979-01-02 03:47:59.999999  2.158\n",
       "4       0.405   LL  Cape May    NJ  8536110  1979-01-02 09:47:59.999999  0.405"
      ]
     },
     "execution_count": 4,
     "metadata": {},
     "output_type": "execute_result"
    }
   ],
   "source": [
    "Water['mean'] = Water[['WaterLevel']].mean(axis=1)\n",
    "Water.head()"
   ]
  },
  {
   "cell_type": "code",
   "execution_count": null,
   "metadata": {
    "collapsed": true
   },
   "outputs": [],
   "source": []
  }
 ],
 "metadata": {
  "kernelspec": {
   "display_name": "Python 3",
   "language": "python",
   "name": "python3"
  },
  "language_info": {
   "codemirror_mode": {
    "name": "ipython",
    "version": 3
   },
   "file_extension": ".py",
   "mimetype": "text/x-python",
   "name": "python",
   "nbconvert_exporter": "python",
   "pygments_lexer": "ipython3",
   "version": "3.6.4"
  }
 },
 "nbformat": 4,
 "nbformat_minor": 2
}
