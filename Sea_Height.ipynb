{
 "cells": [
  {
   "cell_type": "code",
   "execution_count": 6,
   "metadata": {
    "collapsed": true
   },
   "outputs": [],
   "source": [
    "# Classic imports\n",
    "import pandas as pd"
   ]
  },
  {
   "cell_type": "code",
   "execution_count": 7,
   "metadata": {
    "collapsed": true
   },
   "outputs": [],
   "source": [
    "# Gotta zip these together and get the the number of unique observations per sheet \n",
    "# they are all in order and juet gotta be multiplied by the . size of wach sheet\n",
    "\n",
    "\n",
    "City = [\"Cape May\", \"Sandy Hook\", \"Atlantic City\", \"Montauk\", \"Woods Hole\", \"Chatham\", \"Fort Point\", \"Bar Harbor\",\n",
    "        \"Lewes\", \"Ocean City Inlet\", \"Duck\", \"Oregon Inlet\", \"Wrightsville Beach\", \"Springmaid\", \"Charleston\", \n",
    "        \"Fort Pulaski\", \"Mayport\", \"Lake Worth Pier\", \"Virginia Key\", \"Key West\", \"Naples\", \"Clearwater\", \n",
    "        \"Cedar Key\", \"Panama City Beach\", \"Dauphin Island\", \"Bay Wave Land\", \"Shell Beach\", \"Pilots Station\", \n",
    "        \"Eugene Island\", \"Calcasieu\", \"Texas Point\", \"Galveston Bay\", \"Matagorda Bay\", \"Aransas\", \"Bob Hall Pier\", \n",
    "        \"SPIBrazoSantiago\"]\n",
    "\n",
    "State = [\"NJ\", \"NJ\", \"NJ\", \"NY\", \"MA\", \"MA\", \"NH\", \"ME\", \"DE\", \"DE\", \"NC\",\n",
    "         \"NC\", \"NC\", \"SC\", \"SC\", \"GA\", \"FL\", \"FL\", \"FL\", \"FL\", \"FL\", \"FL\", \"FL\", \"FL\", \n",
    "         \"AL\", \"MS\", \"LA\", \"LA\", \"LA\", \"LA\", \"TX\", \"TX\", \"TX\", \"TX\", \"TX\", \"TX\"]\n",
    "\n",
    "Station =[ 8536110, 8531680, 8534720, 8510560, 8447930, 8447435, 8423898,\n",
    "           8413320, 8557380, 8570283, 8651370, 8652587, 8658163, 8661070, \n",
    "           8665530, 8670870, 8720218, 8722670, 8723214, 8724580, 8725110,\n",
    "           8726724, 8727520, 8729210, 8735180, 8747437, 8761305, 8760922,\n",
    "           8764314, 8768094, 8770822, 8771341, 8773767, 8775241, 8775870,\n",
    "           8779749 ]"
   ]
  },
  {
   "cell_type": "code",
   "execution_count": 29,
   "metadata": {
    "collapsed": true
   },
   "outputs": [],
   "source": [
    "# Read in the Sheets \n",
    "\n",
    "# test it\n",
    "#df1 = pd.read_excel(xls, 'Sheet1')\n",
    "#df2 = pd.read_excel(xls, 'Sheet2')\n",
    "\n",
    "\n",
    "# Real way \n",
    "xls = pd.ExcelFile('C:\\\\Users\\\\gst8882\\\\Desktop\\\\NOAA_Test.xlsx')\n",
    "# make a list with each sheet as an item in the list\n",
    "df_list = []\n",
    "# loop through the sheets\n",
    "for i in range(1,37):\n",
    "    #Sheet numbers\n",
    "    s = 'Sheet'+str(i)    \n",
    "    #Build the list \n",
    "    df_list.append(pd.read_excel(xls, s))\n",
    "\n",
    "\n"
   ]
  },
  {
   "cell_type": "code",
   "execution_count": 52,
   "metadata": {
    "collapsed": true,
    "scrolled": false
   },
   "outputs": [],
   "source": [
    "# they are all here\n",
    "#df_list\n"
   ]
  },
  {
   "cell_type": "code",
   "execution_count": 39,
   "metadata": {},
   "outputs": [
    {
     "name": "stdout",
     "output_type": "stream",
     "text": [
      "        DateTime  WaterLevel Type  I  L      City State  Station\n",
      "0  722816.362500       0.442   L   0  0  Cape May    NJ  8536110\n",
      "1  722816.637500       2.509   HH  0  0  Cape May    NJ  8536110\n",
      "2  722816.883333       0.378   LL  0  0  Cape May    NJ  8536110\n",
      "3  722817.158333       2.158   H   0  0  Cape May    NJ  8536110\n",
      "4  722817.408333       0.405   LL  0  0  Cape May    NJ  8536110\n",
      "        DateTime  WaterLevel Type  I  L\n",
      "0  722816.362500       0.442   L   0  0\n",
      "1  722816.637500       2.509   HH  0  0\n",
      "2  722816.883333       0.378   LL  0  0\n",
      "3  722817.158333       2.158   H   0  0\n",
      "4  722817.408333       0.405   LL  0  0\n",
      "        DateTime  WaterLevel Type  I  L\n",
      "0  723028.233333       2.033   H   0  0\n",
      "1  723028.504167       0.960   LL  0  0\n",
      "2  723028.766667       2.179   HH  0  0\n",
      "3  723029.037500       1.036   L   0  0\n",
      "4  723029.275000       1.987   H   0  0\n",
      "        DateTime  WaterLevel Type  I  L\n",
      "0  723028.233333       2.033   H   0  0\n",
      "1  723028.504167       0.960   LL  0  0\n",
      "2  723028.766667       2.179   HH  0  0\n",
      "3  723029.037500       1.036   L   0  0\n",
      "4  723029.275000       1.987   H   0  0\n",
      "        DateTime  WaterLevel Type  I  L\n",
      "0  723181.150000       1.594   H   0  1\n",
      "1  723181.429167       0.479   LL  0  0\n",
      "2  723181.716667       1.320   H   0  0\n",
      "3  723181.945833       0.930   L   0  0\n",
      "4  723182.170833       1.469   HH  0  0\n"
     ]
    }
   ],
   "source": [
    "# Check em out \n",
    "\n",
    "#test ones \n",
    "print(df1.head())\n",
    "\n",
    "#index the list \n",
    "print(df_list[0].head())\n",
    "print(df2.head())\n",
    "print(df_list[1].head())\n",
    "\n",
    "print(df_list[20].head())"
   ]
  },
  {
   "cell_type": "code",
   "execution_count": 46,
   "metadata": {
    "collapsed": true
   },
   "outputs": [],
   "source": [
    "#Make a csv so i dont have to build it every time \n",
    "\n",
    "import csv\n",
    "csvfile = \"C:\\\\Users\\\\gst8882\\\\Desktop\\\\NOAA.csv\"\n",
    "\n",
    "# this works but i need to make the whole data set \n",
    "#Assuming res is a flat list\n",
    "with open(csvfile, \"w\") as output:\n",
    "    writer = csv.writer(output, lineterminator='\\n')\n",
    "    for val in df_list:\n",
    "        writer.writerow([val])    \n",
    "# Well that doesn't fucking work \n",
    "#Assuming res is a list of lists\n",
    "#with open(csvfile, \"w\") as output:\n",
    "   # writer = csv.writer(output, lineterminator='\\n')\n",
    "   # writer.writerows(df_list)"
   ]
  },
  {
   "cell_type": "code",
   "execution_count": 31,
   "metadata": {},
   "outputs": [
    {
     "data": {
      "text/html": [
       "<div>\n",
       "<style>\n",
       "    .dataframe thead tr:only-child th {\n",
       "        text-align: right;\n",
       "    }\n",
       "\n",
       "    .dataframe thead th {\n",
       "        text-align: left;\n",
       "    }\n",
       "\n",
       "    .dataframe tbody tr th {\n",
       "        vertical-align: top;\n",
       "    }\n",
       "</style>\n",
       "<table border=\"1\" class=\"dataframe\">\n",
       "  <thead>\n",
       "    <tr style=\"text-align: right;\">\n",
       "      <th></th>\n",
       "      <th>DateTime</th>\n",
       "      <th>WaterLevel</th>\n",
       "      <th>Type</th>\n",
       "      <th>I</th>\n",
       "      <th>L</th>\n",
       "      <th>City</th>\n",
       "      <th>State</th>\n",
       "      <th>Station</th>\n",
       "    </tr>\n",
       "  </thead>\n",
       "  <tbody>\n",
       "    <tr>\n",
       "      <th>0</th>\n",
       "      <td>722816.362500</td>\n",
       "      <td>0.442</td>\n",
       "      <td>L</td>\n",
       "      <td>0</td>\n",
       "      <td>0</td>\n",
       "      <td>Cape May</td>\n",
       "      <td>NJ</td>\n",
       "      <td>8536110</td>\n",
       "    </tr>\n",
       "    <tr>\n",
       "      <th>1</th>\n",
       "      <td>722816.637500</td>\n",
       "      <td>2.509</td>\n",
       "      <td>HH</td>\n",
       "      <td>0</td>\n",
       "      <td>0</td>\n",
       "      <td>Cape May</td>\n",
       "      <td>NJ</td>\n",
       "      <td>8536110</td>\n",
       "    </tr>\n",
       "    <tr>\n",
       "      <th>2</th>\n",
       "      <td>722816.883333</td>\n",
       "      <td>0.378</td>\n",
       "      <td>LL</td>\n",
       "      <td>0</td>\n",
       "      <td>0</td>\n",
       "      <td>Cape May</td>\n",
       "      <td>NJ</td>\n",
       "      <td>8536110</td>\n",
       "    </tr>\n",
       "    <tr>\n",
       "      <th>3</th>\n",
       "      <td>722817.158333</td>\n",
       "      <td>2.158</td>\n",
       "      <td>H</td>\n",
       "      <td>0</td>\n",
       "      <td>0</td>\n",
       "      <td>Cape May</td>\n",
       "      <td>NJ</td>\n",
       "      <td>8536110</td>\n",
       "    </tr>\n",
       "    <tr>\n",
       "      <th>4</th>\n",
       "      <td>722817.408333</td>\n",
       "      <td>0.405</td>\n",
       "      <td>LL</td>\n",
       "      <td>0</td>\n",
       "      <td>0</td>\n",
       "      <td>Cape May</td>\n",
       "      <td>NJ</td>\n",
       "      <td>8536110</td>\n",
       "    </tr>\n",
       "  </tbody>\n",
       "</table>\n",
       "</div>"
      ],
      "text/plain": [
       "        DateTime  WaterLevel Type  I  L      City State  Station\n",
       "0  722816.362500       0.442   L   0  0  Cape May    NJ  8536110\n",
       "1  722816.637500       2.509   HH  0  0  Cape May    NJ  8536110\n",
       "2  722816.883333       0.378   LL  0  0  Cape May    NJ  8536110\n",
       "3  722817.158333       2.158   H   0  0  Cape May    NJ  8536110\n",
       "4  722817.408333       0.405   LL  0  0  Cape May    NJ  8536110"
      ]
     },
     "execution_count": 31,
     "metadata": {},
     "output_type": "execute_result"
    }
   ],
   "source": [
    "# Create a new column for each City and State and Station \n",
    "# Pull out the index of the list above and multiply by the shape of the corresponding Data Frame(sheet)\n",
    "\n",
    "df1[\"City\"]=[City[0]]*df1.shape[0]\n",
    "df1[\"State\"]=[State[0]]*df1.shape[0]\n",
    "df1[\"Station\"]=[Station[0]]*df1.shape[0]\n",
    "df1.head()\n",
    "\n",
    "#It works... now do it in a loop"
   ]
  },
  {
   "cell_type": "code",
   "execution_count": null,
   "metadata": {
    "collapsed": true
   },
   "outputs": [],
   "source": [
    "# go through the list and add the City State and Station numbers \n",
    "# make it a loop\n",
    "\n",
    "\n",
    "df1[\"City\"]=[City[0]]*df1.shape[0]\n",
    "df1[\"State\"]=[State[0]]*df1.shape[0]\n",
    "df1[\"Station\"]=[Station[0]]*df1.shape[0]\n",
    "df1.head()"
   ]
  },
  {
   "cell_type": "code",
   "execution_count": 32,
   "metadata": {},
   "outputs": [
    {
     "name": "stdout",
     "output_type": "stream",
     "text": [
      "<class 'pandas.core.frame.DataFrame'>\n",
      "RangeIndex: 54428 entries, 0 to 54427\n",
      "Data columns (total 8 columns):\n",
      "DateTime      54428 non-null float64\n",
      "WaterLevel    54428 non-null float64\n",
      "Type          54428 non-null object\n",
      "I             54428 non-null int64\n",
      "L             54428 non-null int64\n",
      "City          54428 non-null object\n",
      "State         54428 non-null object\n",
      "Station       54428 non-null int64\n",
      "dtypes: float64(2), int64(3), object(3)\n",
      "memory usage: 3.3+ MB\n"
     ]
    }
   ],
   "source": [
    "df1.info()"
   ]
  },
  {
   "cell_type": "code",
   "execution_count": 1,
   "metadata": {
    "collapsed": true
   },
   "outputs": [],
   "source": [
    "# Test out the git hub thing "
   ]
  },
  {
   "cell_type": "code",
   "execution_count": null,
   "metadata": {
    "collapsed": true
   },
   "outputs": [],
   "source": []
  }
 ],
 "metadata": {
  "kernelspec": {
   "display_name": "Python 3",
   "language": "python",
   "name": "python3"
  },
  "language_info": {
   "codemirror_mode": {
    "name": "ipython",
    "version": 3
   },
   "file_extension": ".py",
   "mimetype": "text/x-python",
   "name": "python",
   "nbconvert_exporter": "python",
   "pygments_lexer": "ipython3",
   "version": "3.6.4"
  }
 },
 "nbformat": 4,
 "nbformat_minor": 2
}
